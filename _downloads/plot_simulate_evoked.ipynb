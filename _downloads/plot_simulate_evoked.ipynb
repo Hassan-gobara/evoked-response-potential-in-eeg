{
  "cells": [
    {
      "cell_type": "code",
      "execution_count": null,
      "metadata": {
        "collapsed": false
      },
      "outputs": [],
      "source": [
        "%matplotlib inline"
      ]
    },
    {
      "cell_type": "markdown",
      "metadata": {},
      "source": [
        "\n# Simulate dipole\n\n\nThis example demonstrates how to simulate a dipole using the Neuron\nsimulator.\n\n"
      ]
    },
    {
      "cell_type": "code",
      "execution_count": null,
      "metadata": {
        "collapsed": false
      },
      "outputs": [],
      "source": [
        "# Authors: Mainak Jas <mainak.jas@telecom-paristech.fr>\n#          Sam Neymotin <samnemo@gmail.com>\n\nimport sys\nimport os\nimport os.path as op\n\nimport numpy as np\nfrom neuron import h"
      ]
    },
    {
      "cell_type": "markdown",
      "metadata": {},
      "source": [
        "Let us import mne_neuron\n\n"
      ]
    },
    {
      "cell_type": "code",
      "execution_count": null,
      "metadata": {
        "collapsed": false
      },
      "outputs": [],
      "source": [
        "import mne_neuron\nimport mne_neuron.fileio as fio\nimport mne_neuron.paramrw as paramrw\nfrom mne_neuron.dipole import Dipole\nfrom mne_neuron import network"
      ]
    },
    {
      "cell_type": "markdown",
      "metadata": {},
      "source": [
        "Then we setup the directories\n\n"
      ]
    },
    {
      "cell_type": "code",
      "execution_count": null,
      "metadata": {
        "collapsed": false
      },
      "outputs": [],
      "source": [
        "mne_neuron_root = op.join(op.dirname(mne_neuron.__file__), '..')\nh.load_file(\"stdrun.hoc\")\nh.nrn_load_dll(op.join(mne_neuron_root, \"x86_64/.libs/libnrnmech.so\"))\n\n# data directory - ./data\ndproj = op.join(mne_neuron_root, 'data')\npc = h.ParallelContext(1)\nf_psim = ''\nntrial = 1\nf_psim = op.join(mne_neuron_root, 'param', 'default.param')\n\nsimstr = f_psim.split(op.sep)[-1].split('.param')[0]\ndatdir = op.join(dproj, simstr)\nif not op.exists(datdir):\n    os.mkdir(op.join(mne_neuron_root, 'data'))\n\n# creates p_exp.sim_prefix and other param structures\np_exp = paramrw.ExpParams(f_psim)\n\n# one directory for all experiments\nddir = fio.SimulationPaths()\nddir.create_new_sim(dproj, p_exp.expmt_groups, p_exp.sim_prefix)\nddir.create_datadir()\n\n# create rotating data files\ndoutf = {}\ndoutf['file_dpl'] = op.join(datdir, 'rawdpl.txt')\ndoutf['file_param'] = op.join(datdir, 'param.txt')\n\n# core iterator through experimental groups\nexpmt_group = p_exp.expmt_groups[0]\n\n# return the param dict for this simulation\nsimparams = p = p_exp.return_pdict(expmt_group, 0)\n\npc.barrier()  # get all nodes to this place before continuing\npc.gid_clear()\n\n# global variables, should be node-independent\nh(\"dp_total_L2 = 0.\")\nh(\"dp_total_L5 = 0.\")\n\n# Set tstop before instantiating any classes\nh.tstop = p['tstop']\nh.dt = p['dt']  # simulation duration and time-step\nh.celsius = p['celsius']  # 37.0 - set temperature\nnet = network.NetworkOnNode(p)  # create node-specific network"
      ]
    },
    {
      "cell_type": "markdown",
      "metadata": {},
      "source": [
        "We define the arrays (Vector in numpy) for recording the signals\n\n"
      ]
    },
    {
      "cell_type": "code",
      "execution_count": null,
      "metadata": {
        "collapsed": false
      },
      "outputs": [],
      "source": [
        "t_vec = h.Vector()\nt_vec.record(h._ref_t)  # time recording\ndp_rec_L2 = h.Vector()\ndp_rec_L2.record(h._ref_dp_total_L2)  # L2 dipole recording\ndp_rec_L5 = h.Vector()\ndp_rec_L5.record(h._ref_dp_total_L5)  # L5 dipole recording\n\nnet.movecellstopos()  # position cells in 2D grid\npc.barrier()\n\n# sets the default max solver step in ms (purposefully large)\npc.set_maxstep(10)\n\nh.finitialize()  # initialize cells to -65 mV, after all the NetCon delays have been specified"
      ]
    },
    {
      "cell_type": "markdown",
      "metadata": {},
      "source": [
        "We define a callback function for printing out time during simulation run\n\n"
      ]
    },
    {
      "cell_type": "code",
      "execution_count": null,
      "metadata": {
        "collapsed": false
      },
      "outputs": [],
      "source": [
        "def prsimtime():\n    sys.stdout.write('\\rSimulation time: {0} ms...'.format(round(h.t, 2)))\n    sys.stdout.flush()\n\n\nprintdt = 10\nfor tt in range(0, int(h.tstop), printdt):\n    h.cvode.event(tt, prsimtime)  # print time callbacks\n\nh.fcurrent()\nh.frecord_init()  # set state variables if they have been changed since h.finitialize\npc.psolve(h.tstop)  # actual simulation - run the solver\npc.barrier()\n\n# these calls aggregate data across procs/nodes\npc.allreduce(dp_rec_L2, 1)\n# combine dp_rec on every node, 1=add contributions together\npc.allreduce(dp_rec_L5, 1)\nnet.aggregate_currents()  # aggregate the currents independently on each proc\n# combine net.current{} variables on each proc\npc.allreduce(net.current['L5Pyr_soma'], 1)\npc.allreduce(net.current['L2Pyr_soma'], 1)\n\npc.barrier()\n\n# write time and calculated dipole to data file only if on the first proc\n# only execute this statement on one proc\n\n# write params to the file\nparamrw.write(doutf['file_param'], p, net.gid_dict)\ndpl_data = np.c_[t_vec.as_numpy(),\n                 dp_rec_L2.as_numpy() + dp_rec_L5.as_numpy(),\n                 dp_rec_L2.as_numpy(), dp_rec_L5.as_numpy()]\nnp.savetxt(doutf['file_dpl'], dpl_data, fmt='%5.4f')\n\n# renormalize the dipole\n# fix to allow init from data rather than file\ndpl = Dipole(doutf['file_dpl'])\ndpl.baseline_renormalize(doutf['file_param'])\ndpl.convert_fAm_to_nAm()\ndpl.scale(paramrw.find_param(doutf['file_param'], 'dipole_scalefctr'))\ndpl.smooth(paramrw.find_param(\n    doutf['file_param'], 'dipole_smooth_win') / h.dt)\ndpl.plot()\n\npc.barrier()  # make sure all done in case multiple trials\n\npc.runworker()\npc.done()"
      ]
    }
  ],
  "metadata": {
    "kernelspec": {
      "display_name": "Python 3",
      "language": "python",
      "name": "python3"
    },
    "language_info": {
      "codemirror_mode": {
        "name": "ipython",
        "version": 3
      },
      "file_extension": ".py",
      "mimetype": "text/x-python",
      "name": "python",
      "nbconvert_exporter": "python",
      "pygments_lexer": "ipython3",
      "version": "3.7.1"
    }
  },
  "nbformat": 4,
  "nbformat_minor": 0
}