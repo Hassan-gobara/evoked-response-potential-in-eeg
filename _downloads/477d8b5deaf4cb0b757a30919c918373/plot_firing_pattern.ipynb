{
  "cells": [
    {
      "cell_type": "code",
      "execution_count": null,
      "metadata": {
        "collapsed": false
      },
      "outputs": [],
      "source": [
        "%matplotlib inline"
      ]
    },
    {
      "cell_type": "markdown",
      "metadata": {},
      "source": [
        "\n# Plot firing pattern\n\n\nThis example demonstrates how to inspect the firing\npattern of cells in the HNN model.\n"
      ]
    },
    {
      "cell_type": "code",
      "execution_count": null,
      "metadata": {
        "collapsed": false
      },
      "outputs": [],
      "source": [
        "# Authors: Mainak Jas <mjas@harvard.mgh.edu>\n\nimport os.path as op"
      ]
    },
    {
      "cell_type": "markdown",
      "metadata": {},
      "source": [
        "Let us import hnn_core\n\n"
      ]
    },
    {
      "cell_type": "code",
      "execution_count": null,
      "metadata": {
        "collapsed": false
      },
      "outputs": [],
      "source": [
        "import hnn_core\nfrom hnn_core import read_params, Network\n\nhnn_core_root = op.join(op.dirname(hnn_core.__file__), '..')"
      ]
    },
    {
      "cell_type": "markdown",
      "metadata": {},
      "source": [
        "Then we read the parameters file\n\n"
      ]
    },
    {
      "cell_type": "code",
      "execution_count": null,
      "metadata": {
        "collapsed": false
      },
      "outputs": [],
      "source": [
        "params_fname = op.join(hnn_core_root, 'param', 'default.json')\nparams = read_params(params_fname)"
      ]
    },
    {
      "cell_type": "markdown",
      "metadata": {},
      "source": [
        "Now let's build the network\n\n"
      ]
    },
    {
      "cell_type": "code",
      "execution_count": null,
      "metadata": {
        "collapsed": false
      },
      "outputs": [],
      "source": [
        "import matplotlib.pyplot as plt\n\nwith Network(params) as net:\n    net.build()\n\n    # The cells are stored in the network object as a list\n    cells = net.cells\n    print(cells[:5])\n\n    # We have different kinds of cells with different cell IDs (gids)\n    gids = [0, 35, 135, 170]\n    for gid in gids:\n        print(cells[gid].name)\n\n    # We can plot the firing pattern of individual cells\n    net.cells[0].plot_voltage()\n    plt.title('%s (gid=%d)' % (cells[0].name, gid))"
      ]
    },
    {
      "cell_type": "markdown",
      "metadata": {},
      "source": [
        "Let's do this for the rest of the cell types with a new Network object\n\n"
      ]
    },
    {
      "cell_type": "code",
      "execution_count": null,
      "metadata": {
        "collapsed": false
      },
      "outputs": [],
      "source": [
        "with Network(params) as net:\n    net.build()\n\n    fig, axes = plt.subplots(1, 2, sharey=True, figsize=(8, 4))\n    for gid, ax in zip([35, 170], axes):\n        net.cells[gid].plot_voltage(ax)\n        ax.set_title('%s (gid=%d)' % (cells[gid].name, gid))"
      ]
    }
  ],
  "metadata": {
    "kernelspec": {
      "display_name": "Python 3",
      "language": "python",
      "name": "python3"
    },
    "language_info": {
      "codemirror_mode": {
        "name": "ipython",
        "version": 3
      },
      "file_extension": ".py",
      "mimetype": "text/x-python",
      "name": "python",
      "nbconvert_exporter": "python",
      "pygments_lexer": "ipython3",
      "version": "3.7.4"
    }
  },
  "nbformat": 4,
  "nbformat_minor": 0
}